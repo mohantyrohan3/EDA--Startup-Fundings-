{
 "cells": [
  {
   "cell_type": "markdown",
   "id": "5340ba1d",
   "metadata": {},
   "source": [
    "# EDA (Startup Fundings)"
   ]
  },
  {
   "cell_type": "code",
   "execution_count": 36,
   "id": "0024fdde",
   "metadata": {},
   "outputs": [],
   "source": [
    "# Data Cleaning\n",
    "import pandas as pd\n",
    "import matplotlib.pyplot as plt\n",
    "data=pd.read_csv(\"startup_funding.csv\")\n",
    "df=data.copy()\n",
    "df.fillna(\" \",inplace=True)\n",
    "df.drop(\"Remarks\",axis=1,inplace=True)"
   ]
  },
  {
   "cell_type": "markdown",
   "id": "5cc95c07",
   "metadata": {},
   "source": [
    "## Case Study 1"
   ]
  },
  {
   "cell_type": "markdown",
   "id": "c536d019",
   "metadata": {},
   "source": [
    "Your Friend has developed the Product and he wants to establish the product startup and he is searching for a perfect location where getting the investment has a high chance. But due to its financial restriction, he can choose only between three locations -  Bangalore, Mumbai, and NCR. As a friend, you want to help your friend deciding the location. NCR include Gurgaon, Noida and New Delhi. Find the location where the most number of funding is done. That means, find the location where startups has received funding maximum number of times. Plot the bar graph between location and number of funding. Take city name \"Delhi\" as \"New Delhi\". Check the case-sensitiveness of cities also. That means, at some place instead of \"Bangalore\", \"bangalore\" is given. Take city name as \"Bangalore\". For few startups multiple locations are given, one Indian and one Foreign. Consider the startup if any one of the city lies in given locations.|"
   ]
  },
  {
   "cell_type": "code",
   "execution_count": 37,
   "id": "e5911b3a",
   "metadata": {},
   "outputs": [
    {
     "name": "stdout",
     "output_type": "stream",
     "text": [
      "Bangalore    635\n",
      "Mumbai       449\n",
      "New Delhi    389\n",
      "Gurgaon      241\n",
      "Pune          91\n",
      "Name: CityLocation, dtype: int64\n"
     ]
    }
   ],
   "source": [
    "# Data Cleaning As well as finding Top 5 Cities With Most Number of Fundings\n",
    "\n",
    "def seprateCity(city):\n",
    "    return city.split('/')[0].strip()\n",
    "df['CityLocation'] = df['CityLocation'].apply(seprateCity)\n",
    "df['CityLocation'].replace('Delhi','New Delhi',inplace = True)\n",
    "df['CityLocation'].replace('bangalore','Bangalore',inplace = True)\n",
    "final_df=df[df[\"CityLocation\"]!=\"\"]\n",
    "print(final_df[\"CityLocation\"].value_counts()[0:5])\n",
    "city=list(final_df[\"CityLocation\"].value_counts()[0:5].keys())\n",
    "total=list(df[\"CityLocation\"].value_counts()[0:5].values)"
   ]
  },
  {
   "cell_type": "code",
   "execution_count": 95,
   "id": "1f1dd9b7",
   "metadata": {},
   "outputs": [
    {
     "data": {
      "image/png": "[encoded data removed]",
      "text/plain": [
       "<Figure size 432x288 with 1 Axes>"
      ]
     },
     "metadata": {
      "needs_background": "light"
     },
     "output_type": "display_data"
    }
   ],
   "source": [
    "# Ploting a Bar Plot related to above observations\n",
    "plt.bar(city,total,edgecolor=\"black\",color=\"grey\")\n",
    "plt.xlabel(\"Cities\")\n",
    "plt.ylabel(\"Total Investments\")\n",
    "plt.show()"
   ]
  },
  {
   "cell_type": "markdown",
   "id": "3e2b6168",
   "metadata": {},
   "source": [
    "### Observations\n",
    "As my friend was looking for Bangalore, Mumbai, and NCR , I would suggest him going for Bangalore as from above graph we can see bangalore has most no of fundings. If thats not possible go for Mumbai , then go for New Delhi and then Gurgaon"
   ]
  },
  {
   "cell_type": "markdown",
   "id": "c3517ab5",
   "metadata": {},
   "source": [
    "## Case Study 2\n",
    "Even after trying for so many times, your friend’s startup could not find the investment. So you decided to take this matter in your hand and try to find the list of investors who probably can invest in your friend’s startup. Your list will increase the chance of your friend startup getting some initial investment by contacting these investors. Find the top 5 investors who have invested maximum number of times (consider repeat investments in one company also). In a startup, multiple investors might have invested. So consider each investor for that startup. Ignore undisclosed investors."
   ]
  },
  {
   "cell_type": "code",
   "execution_count": 34,
   "id": "82361f13",
   "metadata": {},
   "outputs": [
    {
     "name": "stdout",
     "output_type": "stream",
     "text": [
      "[('Sequoia Capital', 64), ('Accel Partners', 53), ('Kalaari Capital', 44), ('SAIF Partners', 41), ('Indian Angel Network', 40)]\n"
     ]
    }
   ],
   "source": [
    "import pandas as pd\n",
    "df=pd.read_csv('startup_funding.csv')\n",
    "x=df[\"InvestorsName\"]\n",
    "x.dropna(inplace=True)\n",
    "x=x.values\n",
    "d={}\n",
    "for i in range(len(x)):\n",
    "    \n",
    "    l=x[i].split(',')\n",
    "    for j in range(len(l)):\n",
    "        if l[j].strip() in d:\n",
    "            d[l[j].strip()]+=1\n",
    "        else:\n",
    "            d[l[j].strip()]=1\n",
    "sort_orders = sorted(d.items(), key=lambda x: x[1], reverse=True)\n",
    "print(sort_orders[0:5])\n",
    "total=[64,53,44,41,40]\n",
    "investors=[\"Sequoia Capital\",\"Accel Partners\",\"Kalaari Capital\",\"SAIF Partners\",\"Indian Angel Network\"]"
   ]
  },
  {
   "cell_type": "code",
   "execution_count": 35,
   "id": "0d11845f",
   "metadata": {},
   "outputs": [
    {
     "data": {
      "image/png": "[encoded data removed]",
      "text/plain": [
       "<Figure size 432x288 with 1 Axes>"
      ]
     },
     "metadata": {},
     "output_type": "display_data"
    }
   ],
   "source": [
    "# making a pie chart for the above data \n",
    "explode=[0.1,0,0,0,0]\n",
    "plt.pie(total,labels=investors,explode=explode,autopct=\"%0.2f%%\")\n",
    "plt.show()"
   ]
  },
  {
   "cell_type": "markdown",
   "id": "1b2a537e",
   "metadata": {},
   "source": [
    "### Observations\n",
    "From above pie chart we can see that most no of investment is done by \"Sequoia Capital\", following is \"Accel Parterns\" . By this chart my friend can contact these investors"
   ]
  },
  {
   "cell_type": "markdown",
   "id": "42a7d9a2",
   "metadata": {},
   "source": [
    "## Case Study 3\n",
    "After re-analysing the dataset you found out that some investors have invested in the same startup at different number of funding rounds. So before finalising the previous list, you want to improvise it by finding the top 5 investors who have invested in different number of startups. This list will be more helpful than your previous list in finding the investment for your friend startup. Find the top 5 investors who have invested maximum number of times in different companies. That means, if one investor has invested multiple times in one startup, count one for that company. There are many errors in startup names. Ignore correcting all, just handle the important ones - Ola, Flipkart, Oyo and Paytm."
   ]
  },
  {
   "cell_type": "code",
   "execution_count": 96,
   "id": "4de36655",
   "metadata": {},
   "outputs": [
    {
     "name": "stdout",
     "output_type": "stream",
     "text": [
      "[('Sequoia Capital', 64), ('Accel Partners', 52), ('Kalaari Capital', 44), ('Indian Angel Network', 40), ('Blume Ventures', 39)]\n"
     ]
    }
   ],
   "source": [
    "import numpy as np\n",
    "import pandas as pd\n",
    "import matplotlib.pyplot as plt\n",
    "data=pd.read_csv(\"startup_funding.csv\")\n",
    "df=data.copy()\n",
    "df.fillna(\" \",inplace=True)\n",
    "df.drop(\"Remarks\",axis=1,inplace=True)\n",
    "df[\"StartupName\"].replace(\"Paytm Marketplace\",\"Paytm\",inplace=True)\n",
    "df[\"StartupName\"].replace(\"Ola Cabs\",\"Ola\",inplace=True)\n",
    "df[\"StartupName\"].replace(\"Olacabs\",\"Ola\",inplace=True)\n",
    "df[\"StartupName\"].replace(\"Flipkart.com\",\"Flipkart\",inplace=True)\n",
    "df[\"StartupName\"].replace(\"Flipkart.com\",\"Flipkart\",inplace=True)\n",
    "df[\"StartupName\"].replace(\"Oyo Rooms\",\"Oyo\",inplace=True)\n",
    "df[\"StartupName\"].replace(\"OYO Rooms\",\"Oyo\",inplace=True)\n",
    "df[\"StartupName\"].replace(\"OyoRooms\",\"Oyo\",inplace=True)\n",
    "df[\"StartupName\"].replace(\"Oyorooms\",\"Oyo\",inplace=True)\n",
    "final_df=df[df[\"InvestorsName\"]!=\" \"]\n",
    "x=np.array(final_df[\"InvestorsName\"])\n",
    "y=np.array(final_df[\"StartupName\"])\n",
    "d={}\n",
    "check={}\n",
    "for i in range(len(x)):\n",
    "    \n",
    "    l=x[i].split(',')\n",
    "    for j in range(len(l)):\n",
    "        if l[j].strip() in d:\n",
    "            if l[j].strip() in check and check[l[j].strip()] != y[i]:\n",
    "                d[l[j].strip()]+=1\n",
    "        else:\n",
    "            d[l[j].strip()]=1\n",
    "            check[l[j].strip()]=y[i]\n",
    "sort_orders = sorted(d.items(), key=lambda x: x[1], reverse=True)\n",
    "print(sort_orders[0:5])\n",
    "total=[64,52,44,40,39]\n",
    "investors=[\"Sequoia Capital\",\"Accel Partners\",\"Kalaari Capital\",\"Indian Angel Network\",\"Blume Ventures\"]"
   ]
  },
  {
   "cell_type": "code",
   "execution_count": 94,
   "id": "edd1fa81",
   "metadata": {},
   "outputs": [
    {
     "data": {
      "image/png": "[encoded data removed]",
      "text/plain": [
       "<Figure size 432x288 with 1 Axes>"
      ]
     },
     "metadata": {
      "needs_background": "light"
     },
     "output_type": "display_data"
    }
   ],
   "source": [
    "# Ploting A Bar Graph for obove data\n",
    "plt.bar(investors,total,color=\"red\",edgecolor=\"black\")\n",
    "plt.xticks(rotation=50)\n",
    "plt.xlabel(\"Investors\")\n",
    "plt.ylabel(\"Total Investments\")\n",
    "plt.show()"
   ]
  },
  {
   "cell_type": "markdown",
   "id": "08256b82",
   "metadata": {},
   "source": [
    "### Observations :\n",
    "In this case also It seems that Sequoia Capital is the top investor . Following are Accel Partners , Kalaari Capital , Indian Angel Network and Blume Ventures"
   ]
  },
  {
   "cell_type": "markdown",
   "id": "de9d9db6",
   "metadata": {},
   "source": [
    "## Case Study 4\n",
    "Even after putting so much effort in finding the probable investors, it didn't turn out to be helpful for your friend. So you went to your investor friend to understand the situation better and your investor friend explained to you about the different Investment Types and their features. This new information will be helpful in finding the right investor. Since your friend startup is at an early stage startup, the best-suited investment type would be - Seed Funding and Crowdfunding. Find the top 5 investors who have invested in a different number of startups and their investment type is Crowdfunding or Seed Funding. Correct spelling of investment types are - \"Private Equity\", \"Seed Funding\", \"Debt Funding\", and \"Crowd Funding\". Keep an eye for any spelling mistake. You can find this by printing unique values from this column. There are many errors in startup names. Ignore correcting all, just handle the important ones - Ola, Flipkart, Oyo and Paytm."
   ]
  },
  {
   "cell_type": "code",
   "execution_count": 98,
   "id": "e6bff761",
   "metadata": {},
   "outputs": [],
   "source": [
    "# Correction of Spelling Mistakes in \n",
    "import numpy as np\n",
    "import pandas as pd\n",
    "import matplotlib.pyplot as plt\n",
    "data=pd.read_csv(\"startup_funding.csv\")\n",
    "df=data.copy()\n",
    "df.fillna(\" \",inplace=True)\n",
    "df.drop(\"Remarks\",axis=1,inplace=True)\n",
    "df[\"StartupName\"].replace(\"Paytm Marketplace\",\"Paytm\",inplace=True)\n",
    "df[\"StartupName\"].replace(\"Ola Cabs\",\"Ola\",inplace=True)\n",
    "df[\"StartupName\"].replace(\"Olacabs\",\"Ola\",inplace=True)\n",
    "df[\"StartupName\"].replace(\"Flipkart.com\",\"Flipkart\",inplace=True)\n",
    "df[\"StartupName\"].replace(\"Flipkart.com\",\"Flipkart\",inplace=True)\n",
    "df[\"StartupName\"].replace(\"Oyo Rooms\",\"Oyo\",inplace=True)\n",
    "df[\"StartupName\"].replace(\"OYO Rooms\",\"Oyo\",inplace=True)\n",
    "df[\"StartupName\"].replace(\"OyoRooms\",\"Oyo\",inplace=True)\n",
    "df[\"StartupName\"].replace(\"Oyorooms\",\"Oyo\",inplace=True)\n",
    "\n",
    "\n",
    "df[\"InvestmentType\"].replace(\"PrivateEquity\",\"Private Equity\",inplace=True)\n",
    "df[\"InvestmentType\"].replace(\"SeedFunding\",\"Seed Funding\",inplace=True)\n",
    "df[\"InvestmentType\"].replace(\"Crowd funding\",\"Crowd Funding\",inplace=True)\n",
    "\n",
    "final_df=df[df[\"InvestorsName\"]!=\" \"]\n",
    "\n",
    "final_df=final_df[final_df[\"InvestmentType\"]!=\" \"]\n",
    "final_df=final_df[(final_df[\"InvestmentType\"]==\"Seed Funding\") | (final_df[\"InvestmentType\"]==\"Crowd Funding\")]\n"
   ]
  },
  {
   "cell_type": "code",
   "execution_count": 99,
   "id": "22294e3b",
   "metadata": {},
   "outputs": [
    {
     "name": "stdout",
     "output_type": "stream",
     "text": [
      "[('Indian Angel Network', 33), ('Undisclosed Investors', 28), ('Rajan Anandan', 25), ('Undisclosed investors', 24), ('', 22), ('LetsVenture', 16), ('Anupam Mittal', 16), ('Group of Angel Investors', 15), ('Kunal Shah', 14), ('Kae Capital', 12)]\n"
     ]
    }
   ],
   "source": [
    "# Top 5 Investors\n",
    "x=np.array(final_df[\"InvestorsName\"])\n",
    "y=np.array(final_df[\"StartupName\"])\n",
    "d={}\n",
    "check={}\n",
    "for i in range(len(x)):\n",
    "    \n",
    "    l=x[i].split(',')\n",
    "    for j in range(len(l)):\n",
    "        if l[j].strip() in d:\n",
    "            if l[j].strip() in check and check[l[j].strip()] != y[i]:\n",
    "                d[l[j].strip()]+=1\n",
    "        else:\n",
    "            d[l[j].strip()]=1\n",
    "            check[l[j].strip()]=y[i]\n",
    "sort_orders = sorted(d.items(), key=lambda x: x[1], reverse=True)\n",
    "print(sort_orders[0:10])\n",
    "\n",
    "# Ignoring Undisclosed Investers and \" \"\n",
    "investers=[\"Indian Angel Network\",\"Rajan Anandan\",\"LetsVenture\",\"Anupam Mittal\",\"Group of Angel Investors\"]\n",
    "total=[33,25,16,16,15]\n"
   ]
  },
  {
   "cell_type": "code",
   "execution_count": 88,
   "id": "36065285",
   "metadata": {},
   "outputs": [
    {
     "data": {
      "image/png": "[encoded data removed]",
      "text/plain": [
       "<Figure size 432x288 with 1 Axes>"
      ]
     },
     "metadata": {},
     "output_type": "display_data"
    }
   ],
   "source": [
    "# Ploting Line Chart\n",
    "plt.pie(total,labels=investers,explode=[0.1,0,0,0,0],autopct=\"%0.2f%%\")\n",
    "plt.show()\n"
   ]
  },
  {
   "cell_type": "markdown",
   "id": "3a67ff7e",
   "metadata": {},
   "source": [
    "### Observations\n",
    "Here in the case study Indian Angel Network Tops out , Following are Rajan Anandan , LetsVenture, Anupam Mittal and Group of Angel Investors"
   ]
  },
  {
   "cell_type": "markdown",
   "id": "cfa56942",
   "metadata": {},
   "source": [
    "## Case Study 5\n",
    "Due to your immense help, your friend startup successfully got seed funding and it is on the operational mode. Now your friend wants to expand his startup and he is looking for new investors for his startup. Now you again come as a saviour to help your friend and want to create a list of probable new new investors. Before moving forward you remember your investor friend advice that finding the investors by analysing the investment type. Since your friend startup is not in early phase it is in growth stage so the best-suited investment type is Private Equity. Find the top 5 investors who have invested in a different number of startups and their investment type is Private Equity. Correct spelling of investment types are - \"Private Equity\", \"Seed Funding\", \"Debt Funding\", and \"Crowd Funding\". Keep an eye for any spelling mistake. You can find this by printing unique values from this column. There are many errors in startup names. Ignore correcting all, just handle the important ones - Ola, Flipkart, Oyo and Paytm."
   ]
  },
  {
   "cell_type": "code",
   "execution_count": 101,
   "id": "3a740f82",
   "metadata": {},
   "outputs": [],
   "source": [
    "# Data Cleaning\n",
    "import pandas as pd\n",
    "import matplotlib.pyplot as plt\n",
    "data=pd.read_csv(\"startup_funding.csv\")\n",
    "df=data.copy()\n",
    "df.fillna(\" \",inplace=True)\n",
    "df.drop(\"Remarks\",axis=1,inplace=True)\n",
    "\n",
    "df[\"StartupName\"].replace(\"Paytm Marketplace\",\"Paytm\",inplace=True)\n",
    "df[\"StartupName\"].replace(\"Ola Cabs\",\"Ola\",inplace=True)\n",
    "df[\"StartupName\"].replace(\"Olacabs\",\"Ola\",inplace=True)\n",
    "df[\"StartupName\"].replace(\"Flipkart.com\",\"Flipkart\",inplace=True)\n",
    "df[\"StartupName\"].replace(\"Flipkart.com\",\"Flipkart\",inplace=True)\n",
    "df[\"StartupName\"].replace(\"Oyo Rooms\",\"Oyo\",inplace=True)\n",
    "df[\"StartupName\"].replace(\"OYO Rooms\",\"Oyo\",inplace=True)\n",
    "df[\"StartupName\"].replace(\"OyoRooms\",\"Oyo\",inplace=True)\n",
    "df[\"StartupName\"].replace(\"Oyorooms\",\"Oyo\",inplace=True)\n",
    "\n",
    "df[\"InvestmentType\"].replace(\"PrivateEquity\",\"Private Equity\",inplace=True)\n",
    "df[\"InvestmentType\"].replace(\"SeedFunding\",\"Seed Funding\",inplace=True)\n",
    "df[\"InvestmentType\"].replace(\"Crowd funding\",\"Crowd Funding\",inplace=True)\n"
   ]
  },
  {
   "cell_type": "code",
   "execution_count": 102,
   "id": "0398d6fd",
   "metadata": {},
   "outputs": [
    {
     "name": "stdout",
     "output_type": "stream",
     "text": [
      "[('Sequoia Capital', 58), ('Accel Partners', 46), ('Kalaari Capital', 38), ('SAIF Partners', 33), ('Blume Ventures', 29)]\n"
     ]
    }
   ],
   "source": [
    "# Finding Out top 5 investors\n",
    "final_df=df[df[\"InvestorsName\"]!=\" \"]\n",
    "final_df=final_df[final_df[\"InvestmentType\"]==\"Private Equity\"]\n",
    "x=np.array(final_df[\"InvestorsName\"])\n",
    "y=np.array(final_df[\"StartupName\"])\n",
    "d={}\n",
    "check={}\n",
    "for i in range(len(x)):\n",
    "    \n",
    "    l=x[i].split(',')\n",
    "    for j in range(len(l)):\n",
    "        if l[j].strip() in d:\n",
    "            if l[j].strip() in check and check[l[j].strip()] != y[i]:\n",
    "                d[l[j].strip()]+=1\n",
    "        else:\n",
    "            d[l[j].strip()]=1\n",
    "            check[l[j].strip()]=y[i]\n",
    "sort_orders = sorted(d.items(), key=lambda x: x[1], reverse=True)\n",
    "print(sort_orders[0:5])\n",
    "investors=[\"Sequoia Capital\",\"Accel Partners\",\"Kalaari Capital\",\"SAIF Partners\",\"Indian Angel Network\"]\n",
    "total=[58,46,38,33,29]"
   ]
  },
  {
   "cell_type": "code",
   "execution_count": 103,
   "id": "428077de",
   "metadata": {},
   "outputs": [
    {
     "data": {
      "image/png": "[encoded data removed]",
      "text/plain": [
       "<Figure size 432x288 with 1 Axes>"
      ]
     },
     "metadata": {
      "needs_background": "light"
     },
     "output_type": "display_data"
    }
   ],
   "source": [
    "## Ploting Bar Graph\n",
    "plt.bar(investors,total,color=\"blue\",edgecolor=\"black\")\n",
    "plt.xticks(rotation=50)\n",
    "plt.xlabel(\"Investors\")\n",
    "plt.ylabel(\"Total Investments\")\n",
    "plt.show()"
   ]
  },
  {
   "cell_type": "markdown",
   "id": "70f8b1ff",
   "metadata": {},
   "source": [
    "### Observations\n",
    "Here as usual Sequoia Capital is on the top , Following are Accel Partners , Kalaari Capital , Saif Partners , Blume Ventures"
   ]
  }
 ],
 "metadata": {
  "kernelspec": {
   "display_name": "Python 3 (ipykernel)",
   "language": "python",
   "name": "python3"
  },
  "language_info": {
   "codemirror_mode": {
    "name": "ipython",
    "version": 3
   },
   "file_extension": ".py",
   "mimetype": "text/x-python",
   "name": "python",
   "nbconvert_exporter": "python",
   "pygments_lexer": "ipython3",
   "version": "3.9.7"
  }
 },
 "nbformat": 4,
 "nbformat_minor": 5
}
